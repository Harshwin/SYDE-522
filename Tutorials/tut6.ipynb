{
 "cells": [
  {
   "cell_type": "markdown",
   "metadata": {},
   "source": [
    "# Tutorial 6: Tensorflow \n",
    "\n",
    "## Topics covered\n",
    "1. Tensorflow - Installation and Basics\n",
    "3. Linear Regression\n",
    "4. Building a MLP\n",
    "\n",
    "## Tensorflow\n",
    "\n",
    "Taken from: https://www.tensorflow.org/\n",
    "\n",
    "TensorFlow™ is an open source software library for numerical computation using data flow graphs. Nodes in the graph represent mathematical operations, while the graph edges represent the multidimensional data arrays (tensors) communicated between them. The flexible architecture allows you to deploy computation to one or more CPUs or GPUs in a desktop, server, or mobile device with a single API. TensorFlow was originally developed by researchers and engineers working on the Google Brain Team within Google's Machine Intelligence research organization for the purposes of conducting machine learning and deep neural networks research, but the system is general enough to be applicable in a wide variety of other domains as well.\n",
    "\n",
    "## Interesting Links and Tutorials\n",
    "[Curated list of awesome Tensorflow experiments](https://github.com/jtoy/awesome-tensorflow)\n",
    "\n",
    "[Video series on Tensorflow tutorials](https://www.youtube.com/watch?v=oYbVFhK_olY&list=PLSPWNkAMSvv5DKeSVDbEbUKSsK4Z-GgiP)\n",
    "\n",
    "## Basics\n",
    "\n",
    "**Installation**\n",
    "\n",
    "https://www.tensorflow.org/install/\n",
    "\n",
    "**Check available local devices**"
   ]
  },
  {
   "cell_type": "code",
   "execution_count": null,
   "metadata": {
    "collapsed": true
   },
   "outputs": [],
   "source": []
  },
  {
   "cell_type": "markdown",
   "metadata": {},
   "source": [
    "**Variables and Placeholders**"
   ]
  },
  {
   "cell_type": "code",
   "execution_count": null,
   "metadata": {
    "collapsed": true
   },
   "outputs": [],
   "source": []
  },
  {
   "cell_type": "markdown",
   "metadata": {},
   "source": [
    "**Namespace: Variable and Name scopes**"
   ]
  },
  {
   "cell_type": "code",
   "execution_count": null,
   "metadata": {
    "collapsed": true
   },
   "outputs": [],
   "source": []
  },
  {
   "cell_type": "markdown",
   "metadata": {},
   "source": [
    "**Session**\n",
    "1. Running computation graphs.\n",
    "2. Get partition graphs allocations."
   ]
  },
  {
   "cell_type": "code",
   "execution_count": null,
   "metadata": {
    "collapsed": true
   },
   "outputs": [],
   "source": []
  },
  {
   "cell_type": "markdown",
   "metadata": {},
   "source": [
    "**Example: Matrix power $M^{1000}$**"
   ]
  },
  {
   "cell_type": "code",
   "execution_count": null,
   "metadata": {
    "collapsed": true
   },
   "outputs": [],
   "source": []
  },
  {
   "cell_type": "markdown",
   "metadata": {},
   "source": [
    "**Sample example: Multiple GPUs**"
   ]
  },
  {
   "cell_type": "code",
   "execution_count": null,
   "metadata": {
    "collapsed": true
   },
   "outputs": [],
   "source": []
  },
  {
   "cell_type": "markdown",
   "metadata": {},
   "source": [
    "## Linear Regression\n",
    "\n",
    "Fit a equation of line to the given data.\n",
    "\n",
    "$$ Y = Mx + C$$\n",
    "\n",
    "Variables|Placeholders\n",
    "--- | ---\n",
    "$M$ and $C$ | $Y$ and $X$\n",
    "\n",
    "**STEP 1**: Get the data"
   ]
  },
  {
   "cell_type": "code",
   "execution_count": 95,
   "metadata": {
    "collapsed": true
   },
   "outputs": [],
   "source": []
  },
  {
   "cell_type": "markdown",
   "metadata": {},
   "source": [
    "**STEP 2**: Initialize tensorflow variables, loss function and gradient descend operations"
   ]
  },
  {
   "cell_type": "code",
   "execution_count": null,
   "metadata": {
    "collapsed": false
   },
   "outputs": [],
   "source": []
  },
  {
   "cell_type": "markdown",
   "metadata": {},
   "source": [
    "**STEP 3**: Perform the gradient descend\n",
    "\n",
    "Plot the loss per iterations"
   ]
  },
  {
   "cell_type": "code",
   "execution_count": null,
   "metadata": {
    "collapsed": true
   },
   "outputs": [],
   "source": []
  },
  {
   "cell_type": "markdown",
   "metadata": {},
   "source": [
    "**STEP 4:** Final loss and plot the fitted line"
   ]
  },
  {
   "cell_type": "code",
   "execution_count": null,
   "metadata": {
    "collapsed": false
   },
   "outputs": [],
   "source": []
  },
  {
   "cell_type": "markdown",
   "metadata": {},
   "source": [
    "** More Exercise:** Can you fit $n$ degree polynomial? Write a generic function that takes value of $n$ and returns the computation model for:\n",
    "\n",
    "$$Y = a_1 X^n + a_2 X^{n-1} ... + a_n$$\n",
    "\n",
    "Rest everything should stay almost same. Can you tell why do we need `Placeholder` after solving the exercise?"
   ]
  },
  {
   "cell_type": "markdown",
   "metadata": {},
   "source": [
    "## Multilayer Perceptron\n",
    "**MLP Model**\n",
    "\n",
    "1. Building two hidden layered neural network model. \n",
    "2. Each layer has Weights and Bias (variables to adjust). \n",
    "3. Activation of first layer is Sigmoid and last layer is Softmax. \n",
    "4. Loss function is Cross Entropy.\n",
    "\n",
    "**Unit**|**Output**\n",
    "-|-\n",
    "Input | $I$\n",
    "Layer 1| $L_1 = sigmoid(I \\times W_1 + B_1)$\n",
    "Layer 2| $L_2 = Sigmoid(L_1 \\times W_2 + B_2)$\n",
    "Output | $out = L_2*W_{out} + B_{out}$\n",
    "Loss | $loss(out, actual)$\n",
    "\n",
    "**Tensorflow Variables**\n",
    "\n",
    "|Layer|Variables|Size|\n",
    "|-|-|\n",
    "|Layer 1|$W_1$|$D \\times N_1$|\n",
    "|Layer 1|$B_1$|$D \\times 1$|\n",
    "|Layer 2|$W_2$|$N_1 \\times N_2$|\n",
    "|Layer 2|$B_2$|$D \\times 1$|\n",
    "|Output|$W_{out}$|$N_2 \\times O$|\n",
    "|Output|$B_{out}$|$N_2 \\times 1$|\n"
   ]
  },
  {
   "cell_type": "code",
   "execution_count": 137,
   "metadata": {
    "collapsed": false
   },
   "outputs": [],
   "source": [
    "import sklearn.datasets as data\n",
    "import pandas as pd\n",
    "iris = data.load_iris()\n",
    "\n",
    "data = iris.data\n",
    "targets = iris.target"
   ]
  },
  {
   "cell_type": "code",
   "execution_count": 140,
   "metadata": {
    "collapsed": false
   },
   "outputs": [
    {
     "data": {
      "text/html": [
       "<div>\n",
       "<table border=\"1\" class=\"dataframe\">\n",
       "  <thead>\n",
       "    <tr style=\"text-align: right;\">\n",
       "      <th></th>\n",
       "      <th>0</th>\n",
       "      <th>1</th>\n",
       "      <th>2</th>\n",
       "      <th>3</th>\n",
       "    </tr>\n",
       "  </thead>\n",
       "  <tbody>\n",
       "    <tr>\n",
       "      <th>0</th>\n",
       "      <td>5.1</td>\n",
       "      <td>3.5</td>\n",
       "      <td>1.4</td>\n",
       "      <td>0.2</td>\n",
       "    </tr>\n",
       "    <tr>\n",
       "      <th>1</th>\n",
       "      <td>4.9</td>\n",
       "      <td>3.0</td>\n",
       "      <td>1.4</td>\n",
       "      <td>0.2</td>\n",
       "    </tr>\n",
       "    <tr>\n",
       "      <th>2</th>\n",
       "      <td>4.7</td>\n",
       "      <td>3.2</td>\n",
       "      <td>1.3</td>\n",
       "      <td>0.2</td>\n",
       "    </tr>\n",
       "    <tr>\n",
       "      <th>3</th>\n",
       "      <td>4.6</td>\n",
       "      <td>3.1</td>\n",
       "      <td>1.5</td>\n",
       "      <td>0.2</td>\n",
       "    </tr>\n",
       "    <tr>\n",
       "      <th>4</th>\n",
       "      <td>5.0</td>\n",
       "      <td>3.6</td>\n",
       "      <td>1.4</td>\n",
       "      <td>0.2</td>\n",
       "    </tr>\n",
       "    <tr>\n",
       "      <th>5</th>\n",
       "      <td>5.4</td>\n",
       "      <td>3.9</td>\n",
       "      <td>1.7</td>\n",
       "      <td>0.4</td>\n",
       "    </tr>\n",
       "    <tr>\n",
       "      <th>6</th>\n",
       "      <td>4.6</td>\n",
       "      <td>3.4</td>\n",
       "      <td>1.4</td>\n",
       "      <td>0.3</td>\n",
       "    </tr>\n",
       "    <tr>\n",
       "      <th>7</th>\n",
       "      <td>5.0</td>\n",
       "      <td>3.4</td>\n",
       "      <td>1.5</td>\n",
       "      <td>0.2</td>\n",
       "    </tr>\n",
       "    <tr>\n",
       "      <th>8</th>\n",
       "      <td>4.4</td>\n",
       "      <td>2.9</td>\n",
       "      <td>1.4</td>\n",
       "      <td>0.2</td>\n",
       "    </tr>\n",
       "    <tr>\n",
       "      <th>9</th>\n",
       "      <td>4.9</td>\n",
       "      <td>3.1</td>\n",
       "      <td>1.5</td>\n",
       "      <td>0.1</td>\n",
       "    </tr>\n",
       "  </tbody>\n",
       "</table>\n",
       "</div>"
      ],
      "text/plain": [
       "     0    1    2    3\n",
       "0  5.1  3.5  1.4  0.2\n",
       "1  4.9  3.0  1.4  0.2\n",
       "2  4.7  3.2  1.3  0.2\n",
       "3  4.6  3.1  1.5  0.2\n",
       "4  5.0  3.6  1.4  0.2\n",
       "5  5.4  3.9  1.7  0.4\n",
       "6  4.6  3.4  1.4  0.3\n",
       "7  5.0  3.4  1.5  0.2\n",
       "8  4.4  2.9  1.4  0.2\n",
       "9  4.9  3.1  1.5  0.1"
      ]
     },
     "execution_count": 140,
     "metadata": {},
     "output_type": "execute_result"
    }
   ],
   "source": [
    "pd.DataFrame(data).head(10)"
   ]
  },
  {
   "cell_type": "code",
   "execution_count": 143,
   "metadata": {
    "collapsed": false
   },
   "outputs": [
    {
     "data": {
      "text/plain": [
       "(150, 4)"
      ]
     },
     "execution_count": 143,
     "metadata": {},
     "output_type": "execute_result"
    }
   ],
   "source": [
    "data.shape"
   ]
  },
  {
   "cell_type": "code",
   "execution_count": 142,
   "metadata": {
    "collapsed": false
   },
   "outputs": [
    {
     "data": {
      "text/plain": [
       "3"
      ]
     },
     "execution_count": 142,
     "metadata": {},
     "output_type": "execute_result"
    }
   ],
   "source": [
    "len(np.unique(targets))"
   ]
  },
  {
   "cell_type": "code",
   "execution_count": 179,
   "metadata": {
    "collapsed": false
   },
   "outputs": [],
   "source": [
    "tf.reset_default_graph()\n",
    "\n",
    "n_hidden_1 = 10\n",
    "n_hidden_2 = 10\n",
    "n_input = 8\n",
    "n_classes = 3\n",
    "\n",
    "weights = {\n",
    "    'w1': tf.Variable(tf.random_normal([n_input, n_hidden_1])),\n",
    "    'w2': tf.Variable(tf.random_normal([n_hidden_1, n_hidden_2])),\n",
    "    'out': tf.Variable(tf.random_normal([n_hidden_2, n_classes]))\n",
    "}\n",
    "\n",
    "biases = {\n",
    "    'b1': tf.Variable(tf.random_normal([n_hidden_1])),\n",
    "    'b2': tf.Variable(tf.random_normal([n_hidden_2])),\n",
    "    'out': tf.Variable(tf.random_normal([n_classes]))\n",
    "}"
   ]
  },
  {
   "cell_type": "code",
   "execution_count": 180,
   "metadata": {
    "collapsed": false
   },
   "outputs": [],
   "source": [
    "def multilayer_perceptron(x):\n",
    "    # Hidden layer with Sigmoid activation\n",
    "    layer_1 = tf.add(tf.matmul(x, weights['w1']), biases['b1'])\n",
    "    layer_1 = tf.nn.sigmoid(layer_1)\n",
    "    # Hidden layer with Sigmoid activation\n",
    "    layer_2 = tf.add(tf.matmul(layer_1, weights['w2']), biases['b2'])\n",
    "    layer_2 = tf.nn.sigmoid(layer_2)\n",
    "    # Output layer with linear activation\n",
    "    out_layer = tf.matmul(layer_2, weights['out']) + biases['out']\n",
    "    return out_layer\n",
    "\n",
    "x = tf.placeholder('float32', shape=[None, n_input])\n",
    "y = tf.placeholder('float32', shape=[None, n_classes])\n",
    "model = multilayer_perceptron(x)"
   ]
  },
  {
   "cell_type": "code",
   "execution_count": 189,
   "metadata": {
    "collapsed": false
   },
   "outputs": [
    {
     "name": "stdout",
     "output_type": "stream",
     "text": [
      "('Epoch:', '0001', 'cost=', '0.379013753')\n",
      "('Epoch:', '0002', 'cost=', '0.080152113')\n",
      "('Epoch:', '0003', 'cost=', '0.069424981')\n",
      "('Epoch:', '0004', 'cost=', '0.094192142')\n",
      "('Epoch:', '0005', 'cost=', '0.094033352')\n",
      "('Epoch:', '0006', 'cost=', '0.082309554')\n",
      "('Epoch:', '0007', 'cost=', '0.078415315')\n",
      "('Epoch:', '0008', 'cost=', '0.075178365')\n",
      "('Epoch:', '0009', 'cost=', '0.067710357')\n",
      "('Epoch:', '0010', 'cost=', '0.064661779')\n",
      "('Epoch:', '0011', 'cost=', '0.067178625')\n",
      "('Epoch:', '0012', 'cost=', '0.070250067')\n",
      "('Epoch:', '0013', 'cost=', '0.070917830')\n",
      "('Epoch:', '0014', 'cost=', '0.070113449')\n",
      "('Epoch:', '0015', 'cost=', '0.068950689')\n",
      "('Epoch:', '0016', 'cost=', '0.067329752')\n",
      "('Epoch:', '0017', 'cost=', '0.065801346')\n",
      "('Epoch:', '0018', 'cost=', '0.065389385')\n",
      "('Epoch:', '0019', 'cost=', '0.065903217')\n",
      "('Epoch:', '0020', 'cost=', '0.066359922')\n",
      "('Epoch:', '0021', 'cost=', '0.066312220')\n",
      "('Epoch:', '0022', 'cost=', '0.065922570')\n",
      "('Epoch:', '0023', 'cost=', '0.065410099')\n",
      "('Epoch:', '0024', 'cost=', '0.064907050')\n",
      "('Epoch:', '0025', 'cost=', '0.064537854')\n",
      "('Epoch:', '0026', 'cost=', '0.064367386')\n",
      "('Epoch:', '0027', 'cost=', '0.064336085')\n",
      "('Epoch:', '0028', 'cost=', '0.064326720')\n",
      "('Epoch:', '0029', 'cost=', '0.064263055')\n",
      "('Epoch:', '0030', 'cost=', '0.064136531')\n",
      "('Epoch:', '0031', 'cost=', '0.063975875')\n",
      "('Epoch:', '0032', 'cost=', '0.063804189')\n",
      "('Epoch:', '0033', 'cost=', '0.063632414')\n",
      "('Epoch:', '0034', 'cost=', '0.063488008')\n",
      "('Epoch:', '0035', 'cost=', '0.063387414')\n",
      "('Epoch:', '0036', 'cost=', '0.063303778')\n",
      "('Epoch:', '0037', 'cost=', '0.063198545')\n",
      "('Epoch:', '0038', 'cost=', '0.063053513')\n",
      "('Epoch:', '0039', 'cost=', '0.062871468')\n",
      "('Epoch:', '0040', 'cost=', '0.062676659')\n",
      "('Epoch:', '0041', 'cost=', '0.062534583')\n",
      "('Epoch:', '0042', 'cost=', '0.062496521')\n",
      "('Epoch:', '0043', 'cost=', '0.062529453')\n",
      "('Epoch:', '0044', 'cost=', '0.062564683')\n",
      "('Epoch:', '0045', 'cost=', '0.062562099')\n",
      "('Epoch:', '0046', 'cost=', '0.062521267')\n",
      "('Epoch:', '0047', 'cost=', '0.062464000')\n",
      "('Epoch:', '0048', 'cost=', '0.062412874')\n",
      "('Epoch:', '0049', 'cost=', '0.062378075')\n",
      "('Epoch:', '0050', 'cost=', '0.062357056')\n",
      "('Epoch:', '0051', 'cost=', '0.062342061')\n",
      "('Epoch:', '0052', 'cost=', '0.062326908')\n",
      "('Epoch:', '0053', 'cost=', '0.062308391')\n",
      "('Epoch:', '0054', 'cost=', '0.062284032')\n",
      "('Epoch:', '0055', 'cost=', '0.062250392')\n",
      "('Epoch:', '0056', 'cost=', '0.062204025')\n",
      "('Epoch:', '0057', 'cost=', '0.062144480')\n",
      "('Epoch:', '0058', 'cost=', '0.062077249')\n",
      "('Epoch:', '0059', 'cost=', '0.062013446')\n",
      "('Epoch:', '0060', 'cost=', '0.061963106')\n",
      "('Epoch:', '0061', 'cost=', '0.061927977')\n",
      "('Epoch:', '0062', 'cost=', '0.061902405')\n",
      "('Epoch:', '0063', 'cost=', '0.061879311')\n",
      "('Epoch:', '0064', 'cost=', '0.061854312')\n",
      "('Epoch:', '0065', 'cost=', '0.061826422')\n",
      "('Epoch:', '0066', 'cost=', '0.061796819')\n",
      "('Epoch:', '0067', 'cost=', '0.061767477')\n",
      "('Epoch:', '0068', 'cost=', '0.061740232')\n",
      "('Epoch:', '0069', 'cost=', '0.061716170')\n",
      "('Epoch:', '0070', 'cost=', '0.061695489')\n",
      "('Epoch:', '0071', 'cost=', '0.061677558')\n",
      "('Epoch:', '0072', 'cost=', '0.061661394')\n",
      "('Epoch:', '0073', 'cost=', '0.061646138')\n",
      "('Epoch:', '0074', 'cost=', '0.061631370')\n",
      "('Epoch:', '0075', 'cost=', '0.061617115')\n",
      "('Epoch:', '0076', 'cost=', '0.061603611')\n",
      "('Epoch:', '0077', 'cost=', '0.061591003')\n",
      "('Epoch:', '0078', 'cost=', '0.061579263')\n",
      "('Epoch:', '0079', 'cost=', '0.061568239')\n",
      "('Epoch:', '0080', 'cost=', '0.061557835')\n",
      "('Epoch:', '0081', 'cost=', '0.061548049')\n",
      "('Epoch:', '0082', 'cost=', '0.061538968')\n",
      "('Epoch:', '0083', 'cost=', '0.061530650')\n",
      "('Epoch:', '0084', 'cost=', '0.061523035')\n",
      "('Epoch:', '0085', 'cost=', '0.061515987')\n",
      "('Epoch:', '0086', 'cost=', '0.061509342')\n",
      "('Epoch:', '0087', 'cost=', '0.061502984')\n",
      "('Epoch:', '0088', 'cost=', '0.061496826')\n",
      "('Epoch:', '0089', 'cost=', '0.061490800')\n",
      "('Epoch:', '0090', 'cost=', '0.061484829')\n",
      "('Epoch:', '0091', 'cost=', '0.061478846')\n",
      "('Epoch:', '0092', 'cost=', '0.061472812')\n",
      "('Epoch:', '0093', 'cost=', '0.061466758')\n",
      "('Epoch:', '0094', 'cost=', '0.061460772')\n",
      "('Epoch:', '0095', 'cost=', '0.061454961')\n",
      "('Epoch:', '0096', 'cost=', '0.061449387')\n",
      "('Epoch:', '0097', 'cost=', '0.061444066')\n",
      "('Epoch:', '0098', 'cost=', '0.061438956')\n",
      "('Epoch:', '0099', 'cost=', '0.061433996')\n",
      "('Epoch:', '0100', 'cost=', '0.061429138')\n",
      "Optimization Finished!\n",
      "('Accuracy:', 0.54666662)\n"
     ]
    }
   ],
   "source": [
    "from keras.utils.np_utils import to_categorical\n",
    "\n",
    "ts = to_categorical(targets)\n",
    "\n",
    "# Define loss and optimizer\n",
    "cost = tf.reduce_mean(tf.nn.softmax_cross_entropy_with_logits(logits=model, labels=y))\n",
    "optimizer = tf.train.AdamOptimizer(learning_rate=0.5).minimize(cost)\n",
    "\n",
    "# Initializing the variables\n",
    "init = tf.global_variables_initializer()\n",
    "\n",
    "training_epochs = 100\n",
    "\n",
    "# Launch the graph\n",
    "with tf.Session() as sess:\n",
    "    sess.run(init)\n",
    "\n",
    "    # Training cycle\n",
    "    for epoch in range(training_epochs):\n",
    "        avg_cost = 0.\n",
    "        # Loop over all batches\n",
    "        for i in np.arange(0, 150, 50):\n",
    "            batch_x = data[i:i+50]\n",
    "            batch_y = ts[i:i+50]\n",
    "            # Run optimization op (backprop) and cost op (to get loss value)\n",
    "            _, c = sess.run([optimizer, cost], feed_dict={x: batch_x,\n",
    "                                                          y: batch_y})\n",
    "            # Compute average loss\n",
    "            avg_cost += c / 50\n",
    "        # Display logs per epoch step\n",
    "\n",
    "        print(\"Epoch:\", '%04d' % (epoch+1), \"cost=\", \"{:.9f}\".format(avg_cost))\n",
    "    print(\"Optimization Finished!\")\n",
    "\n",
    "    print(\"Accuracy:\", sess.run(accuracy, feed_dict={x: data,\n",
    "                                                    y: ts}))"
   ]
  },
  {
   "cell_type": "code",
   "execution_count": null,
   "metadata": {
    "collapsed": true
   },
   "outputs": [],
   "source": []
  }
 ],
 "metadata": {
  "kernelspec": {
   "display_name": "GPU",
   "language": "python",
   "name": "gpu.env"
  },
  "language_info": {
   "codemirror_mode": {
    "name": "ipython",
    "version": 2
   },
   "file_extension": ".py",
   "mimetype": "text/x-python",
   "name": "python",
   "nbconvert_exporter": "python",
   "pygments_lexer": "ipython2",
   "version": "2.7.8"
  }
 },
 "nbformat": 4,
 "nbformat_minor": 2
}
