{
 "cells": [
  {
   "cell_type": "markdown",
   "metadata": {},
   "source": [
    "# Tutorial 6: Tensorflow \n",
    "\n",
    "## Topics covered\n",
    "1. Tensorflow - Installation and Basics\n",
    "3. Linear Regression\n",
    "4. Building a MLP\n",
    "\n",
    "## Tensorflow\n",
    "\n",
    "Taken from: https://www.tensorflow.org/\n",
    "\n",
    "TensorFlow™ is an open source software library for numerical computation using data flow graphs. Nodes in the graph represent mathematical operations, while the graph edges represent the multidimensional data arrays (tensors) communicated between them. The flexible architecture allows you to deploy computation to one or more CPUs or GPUs in a desktop, server, or mobile device with a single API. TensorFlow was originally developed by researchers and engineers working on the Google Brain Team within Google's Machine Intelligence research organization for the purposes of conducting machine learning and deep neural networks research, but the system is general enough to be applicable in a wide variety of other domains as well.\n",
    "\n",
    "## Interesting Links and Tutorials\n",
    "[Curated list of awesome Tensorflow experiments](https://github.com/jtoy/awesome-tensorflow)\n",
    "\n",
    "[Video series on Tensorflow tutorials](https://www.youtube.com/watch?v=oYbVFhK_olY&list=PLSPWNkAMSvv5DKeSVDbEbUKSsK4Z-GgiP)\n",
    "\n",
    "## Basics\n",
    "\n",
    "**Installation**\n",
    "\n",
    "https://www.tensorflow.org/install/\n",
    "\n",
    "**Check available local devices**"
   ]
  },
  {
   "cell_type": "code",
   "execution_count": 2,
   "metadata": {
    "collapsed": true
   },
   "outputs": [],
   "source": [
    "import tensorflow as tf\n",
    "from tensorflow.python.client import device_lib"
   ]
  },
  {
   "cell_type": "code",
   "execution_count": 3,
   "metadata": {
    "collapsed": false
   },
   "outputs": [
    {
     "data": {
      "text/plain": [
       "[name: \"/cpu:0\"\n",
       " device_type: \"CPU\"\n",
       " memory_limit: 268435456\n",
       " locality {\n",
       " }\n",
       " incarnation: 7661824848954545734]"
      ]
     },
     "execution_count": 3,
     "metadata": {},
     "output_type": "execute_result"
    }
   ],
   "source": [
    "device_lib.list_local_devices()"
   ]
  },
  {
   "cell_type": "markdown",
   "metadata": {},
   "source": [
    "**Variables and Placeholders**"
   ]
  },
  {
   "cell_type": "code",
   "execution_count": 14,
   "metadata": {
    "collapsed": false
   },
   "outputs": [
    {
     "name": "stdout",
     "output_type": "stream",
     "text": [
      "0.389418\n",
      "3.0\n",
      "0.389418\n",
      "4.0\n"
     ]
    }
   ],
   "source": [
    "tf.reset_default_graph()\n",
    "sin_val = tf.sin(0.4)\n",
    "pl_test = tf.placeholder(tf.float32)\n",
    "\n",
    "with tf.Session() as sess:\n",
    "    print(sess.run(sin_val))\n",
    "    print(sess.run(pl_test, \n",
    "                   feed_dict={pl_test: 3}))\n",
    "\n",
    "with tf.Session() as sess:\n",
    "    print(sess.run(sin_val))\n",
    "    print(sess.run(pl_test, \n",
    "                   feed_dict={pl_test: 4}))"
   ]
  },
  {
   "cell_type": "markdown",
   "metadata": {},
   "source": [
    "**Namespace: Variable and Name scopes**"
   ]
  },
  {
   "cell_type": "code",
   "execution_count": 21,
   "metadata": {
    "collapsed": false
   },
   "outputs": [
    {
     "name": "stdout",
     "output_type": "stream",
     "text": [
      "tut6/a:0\n",
      "tut6/a_1:0\n",
      "tut6/a:0\n"
     ]
    }
   ],
   "source": [
    "tf.reset_default_graph()\n",
    "\n",
    "with tf.variable_scope('tut6'):\n",
    "    a = tf.get_variable('a', [2, 1])\n",
    "    b = tf.Variable(0., name='a')\n",
    "    print(a.name)\n",
    "    print(b.name)\n",
    "\n",
    "with tf.variable_scope('tut6', reuse=True):\n",
    "    b = tf.get_variable('a')\n",
    "    print(b.name)"
   ]
  },
  {
   "cell_type": "markdown",
   "metadata": {},
   "source": [
    "**Session**\n",
    "1. Running computation graphs.\n",
    "2. Get partition graphs allocations."
   ]
  },
  {
   "cell_type": "code",
   "execution_count": 26,
   "metadata": {
    "collapsed": false
   },
   "outputs": [
    {
     "name": "stdout",
     "output_type": "stream",
     "text": [
      "0.841471\n"
     ]
    }
   ],
   "source": [
    "tf.reset_default_graph()\n",
    "a = tf.Variable(1.)\n",
    "sin_op = tf.sin(a)\n",
    "init_var = tf.global_variables_initializer()\n",
    "\n",
    "with tf.Session() as sess:\n",
    "    sess.run(init_var)\n",
    "    print(sess.run(sin_op))"
   ]
  },
  {
   "cell_type": "markdown",
   "metadata": {},
   "source": [
    "**Example: Matrix power $M^{1000}$**"
   ]
  },
  {
   "cell_type": "code",
   "execution_count": 32,
   "metadata": {
    "collapsed": false
   },
   "outputs": [
    {
     "name": "stdout",
     "output_type": "stream",
     "text": [
      "[[ 1.  0.  0.]\n",
      " [ 0.  1.  0.]\n",
      " [ 0.  0.  1.]]\n"
     ]
    }
   ],
   "source": [
    "tf.reset_default_graph()\n",
    "\n",
    "import numpy as np\n",
    "\n",
    "def matpower(m, power=1000):\n",
    "    ret = m\n",
    "    for _ in range(power-1):\n",
    "        ret = tf.matmul(ret, m)\n",
    "    return ret\n",
    "\n",
    "I = tf.Variable(np.eye(3))\n",
    "I_m = matpower(I)\n",
    "init_var = tf.global_variables_initializer()\n",
    "\n",
    "with tf.Session() as sess:\n",
    "    sess.run(init_var)\n",
    "    print(sess.run(I_m))"
   ]
  },
  {
   "cell_type": "markdown",
   "metadata": {},
   "source": [
    "**Sample example: Multiple GPUs**\n",
    "\n",
    "$A^{1000} + B^{1000}$"
   ]
  },
  {
   "cell_type": "code",
   "execution_count": 34,
   "metadata": {
    "collapsed": false
   },
   "outputs": [
    {
     "name": "stdout",
     "output_type": "stream",
     "text": [
      "[[ 2.  0.  0.]\n",
      " [ 0.  2.  0.]\n",
      " [ 0.  0.  2.]]\n"
     ]
    }
   ],
   "source": [
    "A = tf.Variable(np.eye(3))\n",
    "B = tf.Variable(np.eye(3))\n",
    "\n",
    "with tf.device('/cpu:0'):\n",
    "    A_m = matpower(A)\n",
    "\n",
    "with tf.device('/cpu:0'):\n",
    "    B_m = matpower(B)\n",
    "\n",
    "sum_op = A_m + B_m\n",
    "init_var = tf.global_variables_initializer()\n",
    "\n",
    "with tf.Session() as sess:\n",
    "    sess.run(init_var)\n",
    "    print(sess.run(sum_op))"
   ]
  },
  {
   "cell_type": "markdown",
   "metadata": {},
   "source": [
    "## Linear Regression\n",
    "\n",
    "Fit a equation of line to the given data.\n",
    "\n",
    "$$ Y = Mx + C$$\n",
    "\n",
    "Variables|Placeholders\n",
    "--- | ---\n",
    "$M$ and $C$ | $Y$ and $X$\n",
    "\n",
    "**STEP 1**: Get the data"
   ]
  },
  {
   "cell_type": "code",
   "execution_count": 41,
   "metadata": {
    "collapsed": false
   },
   "outputs": [
    {
     "data": {
      "text/plain": [
       "<matplotlib.collections.PathCollection at 0x7f59cba21dd8>"
      ]
     },
     "execution_count": 41,
     "metadata": {},
     "output_type": "execute_result"
    },
    {
     "data": {
      "image/png": "[encoded data removed]",
      "text/plain": [
       "<matplotlib.figure.Figure at 0x7f59cba490b8>"
      ]
     },
     "metadata": {},
     "output_type": "display_data"
    }
   ],
   "source": [
    "import matplotlib.pyplot as plt\n",
    "import seaborn as sns\n",
    "sns.set_style('white')\n",
    "%matplotlib inline\n",
    "\n",
    "X = np.linspace(0, 1, 1000)\n",
    "Y = 2.*X + 1. + np.random.randn(*X.shape)\n",
    "\n",
    "plt.figure(figsize=(10, 5))\n",
    "plt.scatter(X, Y, s=30, alpha=0.3)"
   ]
  },
  {
   "cell_type": "markdown",
   "metadata": {},
   "source": [
    "**STEP 2**: Initialize tensorflow variables, loss function and gradient descend operations"
   ]
  },
  {
   "cell_type": "code",
   "execution_count": 45,
   "metadata": {
    "collapsed": false
   },
   "outputs": [],
   "source": [
    "tf.reset_default_graph()\n",
    "\n",
    "M = tf.Variable(0.)\n",
    "C = tf.Variable(0.)\n",
    "\n",
    "_y = M*X + C\n",
    "loss = tf.reduce_mean(tf.square(_y - Y))\n",
    "\n",
    "init_var = tf.global_variables_initializer()\n",
    "grad = tf.train.GradientDescentOptimizer(0.1)\n",
    "train_op = grad.minimize(loss)"
   ]
  },
  {
   "cell_type": "markdown",
   "metadata": {},
   "source": [
    "**STEP 3**: Perform the gradient descend\n",
    "\n",
    "Plot the loss per iterations"
   ]
  },
  {
   "cell_type": "code",
   "execution_count": 51,
   "metadata": {
    "collapsed": false
   },
   "outputs": [
    {
     "data": {
      "text/plain": [
       "[<matplotlib.lines.Line2D at 0x7f5a143edc50>]"
      ]
     },
     "execution_count": 51,
     "metadata": {},
     "output_type": "execute_result"
    },
    {
     "data": {
      "image/png": "[encoded data removed]",
      "text/plain": [
       "<matplotlib.figure.Figure at 0x7f5a240d7128>"
      ]
     },
     "metadata": {},
     "output_type": "display_data"
    }
   ],
   "source": [
    "loss_history = []\n",
    "\n",
    "with tf.Session() as sess:\n",
    "    sess.run(init_var)\n",
    "    \n",
    "    for _ in range(30):\n",
    "        sess.run(train_op)\n",
    "        cur_loss = sess.run(loss)\n",
    "        loss_history.append(cur_loss)\n",
    "    M_p = sess.run(M)\n",
    "    C_p = sess.run(C)\n",
    "\n",
    "plt.plot(loss_history)"
   ]
  },
  {
   "cell_type": "markdown",
   "metadata": {},
   "source": [
    "**STEP 4:** Final loss and plot the fitted line\n",
    "\n",
    "$$Y = 1.22 \\times X + 1.4$$"
   ]
  },
  {
   "cell_type": "code",
   "execution_count": 53,
   "metadata": {
    "collapsed": false
   },
   "outputs": [
    {
     "data": {
      "text/plain": [
       "[<matplotlib.lines.Line2D at 0x7f59cb8fd198>]"
      ]
     },
     "execution_count": 53,
     "metadata": {},
     "output_type": "execute_result"
    },
    {
     "data": {
      "image/png": "[encoded data removed]",
      "text/plain": [
       "<matplotlib.figure.Figure at 0x7f59cb9c28d0>"
      ]
     },
     "metadata": {},
     "output_type": "display_data"
    }
   ],
   "source": [
    "plt.figure(figsize=(10, 5))\n",
    "plt.scatter(X, Y, s=30, alpha=0.3)\n",
    "plt.plot(X, M_p*X + C_p, linewidth=10)"
   ]
  },
  {
   "cell_type": "markdown",
   "metadata": {},
   "source": [
    "** More Exercise:** Can you fit $n$ degree polynomial? Write a generic function that takes value of $n$ and returns the computation model for:\n",
    "\n",
    "$$Y = a_1 X^n + a_2 X^{n-1} ... + a_n$$\n",
    "\n",
    "Rest everything should stay almost same. Can you tell why do we need `Placeholder` after solving the exercise?"
   ]
  },
  {
   "cell_type": "markdown",
   "metadata": {},
   "source": [
    "## Multilayer Perceptron\n",
    "**MLP Model**\n",
    "\n",
    "1. Building two hidden layered neural network model. \n",
    "2. Each layer has Weights and Bias (variables to adjust). \n",
    "3. Activation of both layers is Sigmoid.\n",
    "4. Activation for last layer is Softmax. \n",
    "4. Loss function is Cross Entropy.\n",
    "\n",
    "**Unit**|**Output**\n",
    "-|-\n",
    "Input | $I$\n",
    "Layer 1| $L_1 = sigmoid(I \\times W_1 + B_1)$\n",
    "Layer 2| $L_2 = Sigmoid(L_1 \\times W_2 + B_2)$\n",
    "Output | $out = L_2*W_{out} + B_{out}$\n",
    "Loss | $loss(out, actual)$\n",
    "\n",
    "**Tensorflow Variables**\n",
    "\n",
    "|Layer|Variables|Size|\n",
    "|-|-|\n",
    "|Layer 1|$W_1$|$D \\times N_1$|\n",
    "|Layer 1|$B_1$|$D \\times 1$|\n",
    "|Layer 2|$W_2$|$N_1 \\times N_2$|\n",
    "|Layer 2|$B_2$|$N_2 \\times 1$|\n",
    "|Output|$W_{out}$|$N_2 \\times O$|\n",
    "|Output|$B_{out}$|$N_2 \\times 1$|\n"
   ]
  },
  {
   "cell_type": "code",
   "execution_count": 54,
   "metadata": {
    "collapsed": false
   },
   "outputs": [],
   "source": [
    "import sklearn.datasets as data\n",
    "import pandas as pd\n",
    "iris = data.load_iris()\n",
    "\n",
    "data = iris.data\n",
    "targets = iris.target"
   ]
  },
  {
   "cell_type": "code",
   "execution_count": 140,
   "metadata": {
    "collapsed": false
   },
   "outputs": [
    {
     "data": {
      "text/html": [
       "<div>\n",
       "<table border=\"1\" class=\"dataframe\">\n",
       "  <thead>\n",
       "    <tr style=\"text-align: right;\">\n",
       "      <th></th>\n",
       "      <th>0</th>\n",
       "      <th>1</th>\n",
       "      <th>2</th>\n",
       "      <th>3</th>\n",
       "    </tr>\n",
       "  </thead>\n",
       "  <tbody>\n",
       "    <tr>\n",
       "      <th>0</th>\n",
       "      <td>5.1</td>\n",
       "      <td>3.5</td>\n",
       "      <td>1.4</td>\n",
       "      <td>0.2</td>\n",
       "    </tr>\n",
       "    <tr>\n",
       "      <th>1</th>\n",
       "      <td>4.9</td>\n",
       "      <td>3.0</td>\n",
       "      <td>1.4</td>\n",
       "      <td>0.2</td>\n",
       "    </tr>\n",
       "    <tr>\n",
       "      <th>2</th>\n",
       "      <td>4.7</td>\n",
       "      <td>3.2</td>\n",
       "      <td>1.3</td>\n",
       "      <td>0.2</td>\n",
       "    </tr>\n",
       "    <tr>\n",
       "      <th>3</th>\n",
       "      <td>4.6</td>\n",
       "      <td>3.1</td>\n",
       "      <td>1.5</td>\n",
       "      <td>0.2</td>\n",
       "    </tr>\n",
       "    <tr>\n",
       "      <th>4</th>\n",
       "      <td>5.0</td>\n",
       "      <td>3.6</td>\n",
       "      <td>1.4</td>\n",
       "      <td>0.2</td>\n",
       "    </tr>\n",
       "    <tr>\n",
       "      <th>5</th>\n",
       "      <td>5.4</td>\n",
       "      <td>3.9</td>\n",
       "      <td>1.7</td>\n",
       "      <td>0.4</td>\n",
       "    </tr>\n",
       "    <tr>\n",
       "      <th>6</th>\n",
       "      <td>4.6</td>\n",
       "      <td>3.4</td>\n",
       "      <td>1.4</td>\n",
       "      <td>0.3</td>\n",
       "    </tr>\n",
       "    <tr>\n",
       "      <th>7</th>\n",
       "      <td>5.0</td>\n",
       "      <td>3.4</td>\n",
       "      <td>1.5</td>\n",
       "      <td>0.2</td>\n",
       "    </tr>\n",
       "    <tr>\n",
       "      <th>8</th>\n",
       "      <td>4.4</td>\n",
       "      <td>2.9</td>\n",
       "      <td>1.4</td>\n",
       "      <td>0.2</td>\n",
       "    </tr>\n",
       "    <tr>\n",
       "      <th>9</th>\n",
       "      <td>4.9</td>\n",
       "      <td>3.1</td>\n",
       "      <td>1.5</td>\n",
       "      <td>0.1</td>\n",
       "    </tr>\n",
       "  </tbody>\n",
       "</table>\n",
       "</div>"
      ],
      "text/plain": [
       "     0    1    2    3\n",
       "0  5.1  3.5  1.4  0.2\n",
       "1  4.9  3.0  1.4  0.2\n",
       "2  4.7  3.2  1.3  0.2\n",
       "3  4.6  3.1  1.5  0.2\n",
       "4  5.0  3.6  1.4  0.2\n",
       "5  5.4  3.9  1.7  0.4\n",
       "6  4.6  3.4  1.4  0.3\n",
       "7  5.0  3.4  1.5  0.2\n",
       "8  4.4  2.9  1.4  0.2\n",
       "9  4.9  3.1  1.5  0.1"
      ]
     },
     "execution_count": 140,
     "metadata": {},
     "output_type": "execute_result"
    }
   ],
   "source": [
    "pd.DataFrame(data)"
   ]
  },
  {
   "cell_type": "code",
   "execution_count": 143,
   "metadata": {
    "collapsed": false
   },
   "outputs": [
    {
     "data": {
      "text/plain": [
       "(150, 4)"
      ]
     },
     "execution_count": 143,
     "metadata": {},
     "output_type": "execute_result"
    }
   ],
   "source": [
    "data.shape"
   ]
  },
  {
   "cell_type": "code",
   "execution_count": 142,
   "metadata": {
    "collapsed": false
   },
   "outputs": [
    {
     "data": {
      "text/plain": [
       "3"
      ]
     },
     "execution_count": 142,
     "metadata": {},
     "output_type": "execute_result"
    }
   ],
   "source": [
    "len(np.unique(targets))"
   ]
  },
  {
   "cell_type": "code",
   "execution_count": 57,
   "metadata": {
    "collapsed": false
   },
   "outputs": [],
   "source": [
    "tf.reset_default_graph()\n",
    "\n",
    "n_hidden_1 = 10\n",
    "n_hidden_2 = 10\n",
    "n_input = 4\n",
    "n_classes = 3\n",
    "\n",
    "weights = {\n",
    "    'w1': tf.Variable(tf.random_normal([n_input, n_hidden_1])),\n",
    "    'w2': tf.Variable(tf.random_normal([n_hidden_1, n_hidden_2])),\n",
    "    'out': tf.Variable(tf.random_normal([n_hidden_2, n_classes]))\n",
    "}\n",
    "\n",
    "biases = {\n",
    "    'b1': tf.Variable(tf.random_normal([n_hidden_1])),\n",
    "    'b2': tf.Variable(tf.random_normal([n_hidden_2])),\n",
    "    'out': tf.Variable(tf.random_normal([n_classes]))\n",
    "}"
   ]
  },
  {
   "cell_type": "code",
   "execution_count": 58,
   "metadata": {
    "collapsed": false
   },
   "outputs": [],
   "source": [
    "def multilayer_perceptron(x):\n",
    "    # Hidden layer with Sigmoid activation\n",
    "    layer_1 = tf.add(tf.matmul(x, weights['w1']), biases['b1'])\n",
    "    layer_1 = tf.nn.sigmoid(layer_1)\n",
    "    # Hidden layer with Sigmoid activation\n",
    "    layer_2 = tf.add(tf.matmul(layer_1, weights['w2']), biases['b2'])\n",
    "    layer_2 = tf.nn.sigmoid(layer_2)\n",
    "    # Output layer with linear activation\n",
    "    out_layer = tf.matmul(layer_2, weights['out']) + biases['out']\n",
    "    return out_layer\n",
    "\n",
    "x = tf.placeholder('float32', shape=[None, n_input])\n",
    "y = tf.placeholder('float32', shape=[None, n_classes])\n",
    "model = multilayer_perceptron(x)"
   ]
  },
  {
   "cell_type": "code",
   "execution_count": 61,
   "metadata": {
    "collapsed": false
   },
   "outputs": [
    {
     "name": "stderr",
     "output_type": "stream",
     "text": [
      "Using Theano backend.\n"
     ]
    },
    {
     "name": "stdout",
     "output_type": "stream",
     "text": [
      "Epoch: 0001 cost= 0.389893675\n",
      "Epoch: 0002 cost= 0.107827921\n",
      "Epoch: 0003 cost= 0.094876857\n",
      "Epoch: 0004 cost= 0.107055825\n",
      "Epoch: 0005 cost= 0.100229117\n",
      "Epoch: 0006 cost= 0.081400983\n",
      "Epoch: 0007 cost= 0.073082807\n",
      "Epoch: 0008 cost= 0.070463626\n",
      "Epoch: 0009 cost= 0.068334399\n",
      "Epoch: 0010 cost= 0.069870355\n",
      "Epoch: 0011 cost= 0.073494639\n",
      "Epoch: 0012 cost= 0.073639627\n",
      "Epoch: 0013 cost= 0.071669853\n",
      "Epoch: 0014 cost= 0.069933848\n",
      "Epoch: 0015 cost= 0.069043138\n",
      "Epoch: 0016 cost= 0.069131365\n",
      "Epoch: 0017 cost= 0.070222583\n",
      "Epoch: 0018 cost= 0.071135771\n",
      "Epoch: 0019 cost= 0.071068301\n",
      "Epoch: 0020 cost= 0.070431561\n",
      "Epoch: 0021 cost= 0.069853494\n",
      "Epoch: 0022 cost= 0.069663558\n",
      "Epoch: 0023 cost= 0.069915791\n",
      "Epoch: 0024 cost= 0.070343792\n",
      "Epoch: 0025 cost= 0.070561910\n",
      "Epoch: 0026 cost= 0.070463417\n",
      "Epoch: 0027 cost= 0.070223823\n",
      "Epoch: 0028 cost= 0.070056660\n",
      "Epoch: 0029 cost= 0.070065320\n",
      "Epoch: 0030 cost= 0.070207300\n",
      "Epoch: 0031 cost= 0.070346863\n",
      "Epoch: 0032 cost= 0.070382006\n",
      "Epoch: 0033 cost= 0.070319941\n",
      "Epoch: 0034 cost= 0.070237904\n",
      "Epoch: 0035 cost= 0.070205276\n",
      "Epoch: 0036 cost= 0.070237293\n",
      "Epoch: 0037 cost= 0.070297201\n",
      "Epoch: 0038 cost= 0.070335946\n",
      "Epoch: 0039 cost= 0.070333385\n",
      "Epoch: 0040 cost= 0.070305963\n",
      "Epoch: 0041 cost= 0.070283952\n",
      "Epoch: 0042 cost= 0.070285316\n",
      "Epoch: 0043 cost= 0.070305748\n",
      "Epoch: 0044 cost= 0.070327530\n",
      "Epoch: 0045 cost= 0.070336487\n",
      "Epoch: 0046 cost= 0.070331812\n",
      "Epoch: 0047 cost= 0.070323107\n",
      "Epoch: 0048 cost= 0.070320287\n",
      "Epoch: 0049 cost= 0.070326140\n",
      "Epoch: 0050 cost= 0.070336056\n",
      "Epoch: 0051 cost= 0.070343513\n",
      "Epoch: 0052 cost= 0.070345490\n",
      "Epoch: 0053 cost= 0.070343874\n",
      "Epoch: 0054 cost= 0.070342677\n",
      "Epoch: 0055 cost= 0.070344455\n",
      "Epoch: 0056 cost= 0.070348747\n",
      "Epoch: 0057 cost= 0.070353301\n",
      "Epoch: 0058 cost= 0.070356154\n",
      "Epoch: 0059 cost= 0.070357156\n",
      "Epoch: 0060 cost= 0.070357516\n",
      "Epoch: 0061 cost= 0.070358560\n",
      "Epoch: 0062 cost= 0.070360711\n",
      "Epoch: 0063 cost= 0.070363383\n",
      "Epoch: 0064 cost= 0.070365705\n",
      "Epoch: 0065 cost= 0.070367279\n",
      "Epoch: 0066 cost= 0.070368326\n",
      "Epoch: 0067 cost= 0.070369384\n",
      "Epoch: 0068 cost= 0.070370810\n",
      "Epoch: 0069 cost= 0.070372519\n",
      "Epoch: 0070 cost= 0.070374238\n",
      "Epoch: 0071 cost= 0.070375707\n",
      "Epoch: 0072 cost= 0.070376906\n",
      "Epoch: 0073 cost= 0.070377994\n",
      "Epoch: 0074 cost= 0.070379143\n",
      "Epoch: 0075 cost= 0.070380414\n",
      "Epoch: 0076 cost= 0.070381720\n",
      "Epoch: 0077 cost= 0.070382972\n",
      "Epoch: 0078 cost= 0.070384090\n",
      "Epoch: 0079 cost= 0.070385110\n",
      "Epoch: 0080 cost= 0.070386128\n",
      "Epoch: 0081 cost= 0.070387163\n",
      "Epoch: 0082 cost= 0.070388227\n",
      "Epoch: 0083 cost= 0.070389268\n",
      "Epoch: 0084 cost= 0.070390244\n",
      "Epoch: 0085 cost= 0.070391173\n",
      "Epoch: 0086 cost= 0.070392075\n",
      "Epoch: 0087 cost= 0.070392971\n",
      "Epoch: 0088 cost= 0.070393858\n",
      "Epoch: 0089 cost= 0.070394745\n",
      "Epoch: 0090 cost= 0.070395596\n",
      "Epoch: 0091 cost= 0.070396414\n",
      "Epoch: 0092 cost= 0.070397213\n",
      "Epoch: 0093 cost= 0.070397997\n",
      "Epoch: 0094 cost= 0.070398786\n",
      "Epoch: 0095 cost= 0.070399535\n",
      "Epoch: 0096 cost= 0.070400293\n",
      "Epoch: 0097 cost= 0.070401018\n",
      "Epoch: 0098 cost= 0.070401719\n",
      "Epoch: 0099 cost= 0.070402412\n",
      "Epoch: 0100 cost= 0.070403101\n",
      "Optimization Finished!\n",
      "Accuracy: 0.333333\n"
     ]
    }
   ],
   "source": [
    "from keras.utils.np_utils import to_categorical\n",
    "\n",
    "ts = to_categorical(targets)\n",
    "\n",
    "# Define loss and optimizer\n",
    "cost = tf.reduce_mean(tf.nn.softmax_cross_entropy_with_logits(logits=model, labels=y))\n",
    "optimizer = tf.train.AdamOptimizer(learning_rate=0.5).minimize(cost)\n",
    "\n",
    "# Initializing the variables\n",
    "init = tf.global_variables_initializer()\n",
    "\n",
    "training_epochs = 100\n",
    "correct_prediction = tf.equal(\n",
    "    tf.argmax(y,1), tf.argmax(model,1))\n",
    "accuracy = tf.reduce_mean(\n",
    "    tf.cast(correct_prediction, tf.float32))\n",
    "\n",
    "# Launch the graph\n",
    "with tf.Session() as sess:\n",
    "    sess.run(init)\n",
    "    \n",
    "    # Training cycle\n",
    "    for epoch in range(training_epochs):\n",
    "        avg_cost = 0.\n",
    "        # Loop over all batches\n",
    "        for i in np.arange(0, 150, 50):\n",
    "            batch_x = data[i:i+50]\n",
    "            batch_y = ts[i:i+50]\n",
    "            # Run optimization op (backprop) and cost op (to get loss value)\n",
    "            _, c = sess.run([optimizer, cost], feed_dict={x: batch_x,\n",
    "                                                          y: batch_y})\n",
    "            # Compute average loss\n",
    "            avg_cost += c / 50\n",
    "        # Display logs per epoch step\n",
    "\n",
    "        print(\"Epoch:\", '%04d' % (epoch+1), \"cost=\", \"{:.9f}\".format(avg_cost))\n",
    "    print(\"Optimization Finished!\")\n",
    "\n",
    "    print(\"Accuracy:\", sess.run(accuracy, feed_dict={x: data,\n",
    "                                                    y: ts}))"
   ]
  }
 ],
 "metadata": {
  "kernelspec": {
   "display_name": "SYDE 522 (Tutorials)",
   "language": "python",
   "name": "syde522-tutorial"
  },
  "language_info": {
   "codemirror_mode": {
    "name": "ipython",
    "version": 3
   },
   "file_extension": ".py",
   "mimetype": "text/x-python",
   "name": "python",
   "nbconvert_exporter": "python",
   "pygments_lexer": "ipython3",
   "version": "3.6.0"
  }
 },
 "nbformat": 4,
 "nbformat_minor": 2
}
